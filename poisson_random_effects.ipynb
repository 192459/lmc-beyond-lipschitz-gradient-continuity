{
 "cells": [
  {
   "cell_type": "code",
   "execution_count": 2,
   "metadata": {},
   "outputs": [],
   "source": [
    "import numpy as np\n",
    "from tqdm import tqdm\n",
    "import scipy.stats as sp\n",
    "from scipy.special import gamma\n",
    "from scipy.optimize import minimize\n",
    "from scipy.integrate import tplquad \n",
    "from jupyprint import jupyprint, arraytex\n",
    "from numdifftools import Hessian, Jacobian\n",
    "from IPython.display import clear_output\n",
    "import matplotlib.pyplot as plt"
   ]
  },
  {
   "cell_type": "code",
   "execution_count": 3,
   "metadata": {},
   "outputs": [],
   "source": [
    "# Poisson Random Effects model \n",
    "\n",
    "# parameters of the model \n",
    "sigma_mu = 2 # (standard deviation)\n",
    "I = 5\n",
    "J = 6"
   ]
  },
  {
   "cell_type": "code",
   "execution_count": 4,
   "metadata": {},
   "outputs": [],
   "source": [
    "# sample observations:\n",
    "mu = 1\n",
    "eta = np.random.normal(loc=mu, scale=1, size=I)\n",
    "y = np.zeros((I,J))\n",
    "\n",
    "for i in range(I):\n",
    "    y[i,:] = np.random.poisson(lam=np.exp(eta[i]), size=J)\n"
   ]
  },
  {
   "cell_type": "code",
   "execution_count": 5,
   "metadata": {},
   "outputs": [],
   "source": [
    "# define potential and gradient and hessian \n",
    "def potential(x):\n",
    "    output = J*np.sum(np.exp(x[1:])) + np.sum(x[1:].dot(y)) + 1/2 * np.sum((x[1:]-x[0])**2) + x[0]**2 / (2* sigma_mu**2)\n",
    "    return output\n",
    "\n",
    "def gradient(x):\n",
    "    output = np.zeros(len(x))\n",
    "    output[0] = np.sum(x[0] - x[1:]) + x[0]/sigma_mu**2\n",
    "    output[1:] = J * np.exp(x[1:]) + x[1:] - x[0]  + np.sum(y,axis=1)\n",
    "    return output\n",
    "\n",
    "def hessian_p(x,p):\n",
    "    output = np.zeros(len(x))\n",
    "    output[0] = (I+1/sigma_mu**2)*p[0] - np.sum(p[1:])\n",
    "    output[1:] = -p[0] +(J * np.exp(x[1:]) + 1)*p[1:]\n",
    "    return output\n"
   ]
  },
  {
   "cell_type": "code",
   "execution_count": 8,
   "metadata": {},
   "outputs": [
    {
     "data": {
      "text/markdown": [
       "$f(x_0) =261.01495602146485$"
      ],
      "text/plain": [
       "<IPython.core.display.Markdown object>"
      ]
     },
     "metadata": {},
     "output_type": "display_data"
    }
   ],
   "source": [
    "# test potential and gradient\n",
    "x0 = sp.norm.rvs(size=d)\n",
    "jupyprint(\"$f(x_0) =\" + str(potential(x0)) +\"$\")\n",
    "#jupyprint(\"$f^\\\\prime(x_0) =\" + str(gradient(x0)) +\"$\")\n",
    "#jupyprint(\"$\\\\hat{f}^\\\\prime(x_0) =\" + str(Jacobian(potential)(x0)) +\"$\")\n",
    "\n",
    "def density_c(x):\n",
    "    return np.exp(-potential(x))\n"
   ]
  },
  {
   "cell_type": "code",
   "execution_count": 22,
   "metadata": {},
   "outputs": [],
   "source": [
    "# PARAMETERS OF THE RUN\n",
    "d = I+1\n",
    "initial_sample = np.zeros(d)\n",
    "time_step = 1e-4\n",
    "sampling = 10000\n",
    "n_MC = 1\n",
    "tune_interval = 10000\n",
    "number_of_samples = sampling+tune_interval"
   ]
  },
  {
   "cell_type": "code",
   "execution_count": 13,
   "metadata": {},
   "outputs": [
    {
     "name": "stderr",
     "output_type": "stream",
     "text": [
      "  8%|▊         | 9079/109999 [00:02<00:22, 4516.26it/s]C:\\Users\\Benko\\AppData\\Local\\Temp\\ipykernel_26808\\2341137570.py:8: RuntimeWarning: overflow encountered in exp\n",
      "  return np.exp(-potential(x))\n",
      "C:\\Users\\Benko\\AppData\\Local\\Temp\\ipykernel_26808\\1041804514.py:26: RuntimeWarning: invalid value encountered in scalar divide\n",
      "  alpha = density_c(proposal)/density_c(samples_metropolis[-1])\n",
      "100%|██████████| 109999/109999 [00:24<00:00, 4497.80it/s]"
     ]
    },
    {
     "name": "stdout",
     "output_type": "stream",
     "text": [
      "acceptance rate = 0.07089999999999996\n"
     ]
    },
    {
     "name": "stderr",
     "output_type": "stream",
     "text": [
      "\n"
     ]
    },
    {
     "data": {
      "text/markdown": [
       "Metropolis"
      ],
      "text/plain": [
       "<IPython.core.display.Markdown object>"
      ]
     },
     "metadata": {},
     "output_type": "display_data"
    },
    {
     "data": {
      "text/markdown": [
       "2nd: mean = 66.12162025032309, std = 0.0"
      ],
      "text/plain": [
       "<IPython.core.display.Markdown object>"
      ]
     },
     "metadata": {},
     "output_type": "display_data"
    },
    {
     "data": {
      "text/markdown": [
       "4th: mean = 4372.068664527943, std = 0.0"
      ],
      "text/plain": [
       "<IPython.core.display.Markdown object>"
      ]
     },
     "metadata": {},
     "output_type": "display_data"
    },
    {
     "data": {
      "text/markdown": [
       "6th: mean = 289088.2639442542, std = 0.0"
      ],
      "text/plain": [
       "<IPython.core.display.Markdown object>"
      ]
     },
     "metadata": {},
     "output_type": "display_data"
    }
   ],
   "source": [
    "# Metropolis algorithm\n",
    "\n",
    "# Monte Carlo \n",
    "moment2_metropolis = []\n",
    "moment4_metropolis = []\n",
    "moment6_metropolis = []\n",
    "\n",
    "test_rejections = 0\n",
    "\n",
    "for i_MC in range(0, n_MC):\n",
    "    samples_metropolis = [initial_sample]\n",
    "    samples_metropolis_norm = [np.linalg.norm(initial_sample)]\n",
    "\n",
    "    for _ in tqdm(range(1, number_of_samples)):\n",
    "\n",
    "        # get proposal\n",
    "        proposal = samples_metropolis[-1] + sp.norm.rvs(\n",
    "            loc=0, \n",
    "            scale=0.005, \n",
    "            size=d\n",
    "            )\n",
    "        \n",
    "        if density_c(samples_metropolis[-1]) == 0:\n",
    "            alpha = 1\n",
    "        else:\n",
    "            alpha = density_c(proposal)/density_c(samples_metropolis[-1])\n",
    "\n",
    "        u = sp.uniform.rvs()\n",
    "\n",
    "        if u <= alpha:\n",
    "            samples_metropolis.append(proposal)\n",
    "            samples_metropolis_norm.append(np.linalg.norm(proposal))\n",
    "        else:\n",
    "            samples_metropolis.append(samples_metropolis[-1])\n",
    "            samples_metropolis_norm.append(samples_metropolis_norm[-1])\n",
    "            test_rejections += 1\n",
    "\n",
    "    print(\"acceptance rate = \"+str(1-test_rejections/number_of_samples))\n",
    "    test_rejections = 0\n",
    "\n",
    "    samples_metropolis_norm = np.array(samples_metropolis_norm[tune_interval:])\n",
    "\n",
    "    moment2_metropolis.append(np.mean(samples_metropolis_norm**2))\n",
    "    moment4_metropolis.append(np.mean(samples_metropolis_norm**4))\n",
    "    moment6_metropolis.append(np.mean(samples_metropolis_norm**6))\n",
    "\n",
    "    jupyprint(\"Metropolis\")\n",
    "    jupyprint(\"2nd: mean = \" + str(np.mean(moment2_metropolis)) + \", std = \" + str(np.std(moment2_metropolis)))\n",
    "    jupyprint(\"4th: mean = \" + str(np.mean(moment4_metropolis)) + \", std = \" + str(np.std(moment4_metropolis)))\n",
    "    jupyprint(\"6th: mean = \" + str(np.mean(moment6_metropolis)) + \", std = \" + str(np.std(moment6_metropolis)))"
   ]
  },
  {
   "cell_type": "code",
   "execution_count": 31,
   "metadata": {},
   "outputs": [
    {
     "name": "stdout",
     "output_type": "stream",
     "text": [
      "MC: 1/1\n"
     ]
    },
    {
     "name": "stderr",
     "output_type": "stream",
     "text": [
      "100%|██████████| 19999/19999 [00:09<00:00, 2048.33it/s]\n"
     ]
    }
   ],
   "source": [
    "# EXPLICIT TAMED SCHEME\n",
    "\n",
    "# Monte Carlo \n",
    "moment2_explicit_tamed = []\n",
    "moment4_explicit_tamed = []\n",
    "moment6_explicit_tamed = []\n",
    "\n",
    "for i_MC in range(0, n_MC):\n",
    "    print(\"MC: \"+str(i_MC+1)+\"/\"+str(n_MC))\n",
    "\n",
    "    samples_explicit_tamed = [initial_sample]\n",
    "    samples_explicit_tamed_norm = [np.linalg.norm(initial_sample)]\n",
    "\n",
    "    for _ in tqdm(range(1, number_of_samples)):\n",
    "\n",
    "        # gradient tamed step\n",
    "        x = samples_explicit_tamed[-1] - time_step * gradient(samples_explicit_tamed[-1]) / (1+time_step*np.linalg.norm(gradient(samples_explicit_tamed[-1]))) \n",
    "        \n",
    "        # adding Gaussian\n",
    "        cov = np.diag(np.repeat(2*time_step,d))\n",
    "        x = sp.multivariate_normal.rvs(mean=x, cov=cov)\n",
    "        # save value\n",
    "        samples_explicit_tamed.append(x)\n",
    "        samples_explicit_tamed_norm.append(np.linalg.norm(x))\n",
    "\n",
    "    samples_explicit_tamed_norm = np.array(samples_explicit_tamed_norm[tune_interval:])\n",
    "\n",
    "    moment2_explicit_tamed.append(np.mean(samples_explicit_tamed_norm**2))\n",
    "    moment4_explicit_tamed.append(np.mean(samples_explicit_tamed_norm**4))\n",
    "    moment6_explicit_tamed.append(np.mean(samples_explicit_tamed_norm**6))"
   ]
  },
  {
   "cell_type": "code",
   "execution_count": 46,
   "metadata": {},
   "outputs": [
    {
     "name": "stdout",
     "output_type": "stream",
     "text": [
      "MC: 1/10\n"
     ]
    },
    {
     "name": "stderr",
     "output_type": "stream",
     "text": [
      "100%|██████████| 109999/109999 [00:29<00:00, 3765.77it/s]\n"
     ]
    },
    {
     "name": "stdout",
     "output_type": "stream",
     "text": [
      "MC: 2/10\n"
     ]
    },
    {
     "name": "stderr",
     "output_type": "stream",
     "text": [
      "100%|██████████| 109999/109999 [00:30<00:00, 3637.62it/s]\n"
     ]
    },
    {
     "name": "stdout",
     "output_type": "stream",
     "text": [
      "MC: 3/10\n"
     ]
    },
    {
     "name": "stderr",
     "output_type": "stream",
     "text": [
      "100%|██████████| 109999/109999 [00:30<00:00, 3649.49it/s]\n"
     ]
    },
    {
     "name": "stdout",
     "output_type": "stream",
     "text": [
      "MC: 4/10\n"
     ]
    },
    {
     "name": "stderr",
     "output_type": "stream",
     "text": [
      "100%|██████████| 109999/109999 [00:29<00:00, 3719.75it/s]\n"
     ]
    },
    {
     "name": "stdout",
     "output_type": "stream",
     "text": [
      "MC: 5/10\n"
     ]
    },
    {
     "name": "stderr",
     "output_type": "stream",
     "text": [
      "100%|██████████| 109999/109999 [00:29<00:00, 3697.70it/s]\n"
     ]
    },
    {
     "name": "stdout",
     "output_type": "stream",
     "text": [
      "MC: 6/10\n"
     ]
    },
    {
     "name": "stderr",
     "output_type": "stream",
     "text": [
      "100%|██████████| 109999/109999 [00:31<00:00, 3541.18it/s]\n"
     ]
    },
    {
     "name": "stdout",
     "output_type": "stream",
     "text": [
      "MC: 7/10\n"
     ]
    },
    {
     "name": "stderr",
     "output_type": "stream",
     "text": [
      "100%|██████████| 109999/109999 [00:30<00:00, 3663.78it/s]\n"
     ]
    },
    {
     "name": "stdout",
     "output_type": "stream",
     "text": [
      "MC: 8/10\n"
     ]
    },
    {
     "name": "stderr",
     "output_type": "stream",
     "text": [
      "100%|██████████| 109999/109999 [00:30<00:00, 3570.84it/s]\n"
     ]
    },
    {
     "name": "stdout",
     "output_type": "stream",
     "text": [
      "MC: 9/10\n"
     ]
    },
    {
     "name": "stderr",
     "output_type": "stream",
     "text": [
      "100%|██████████| 109999/109999 [00:29<00:00, 3685.24it/s]\n"
     ]
    },
    {
     "name": "stdout",
     "output_type": "stream",
     "text": [
      "MC: 10/10\n"
     ]
    },
    {
     "name": "stderr",
     "output_type": "stream",
     "text": [
      "100%|██████████| 109999/109999 [00:30<00:00, 3612.08it/s]\n"
     ]
    }
   ],
   "source": [
    "# EXPLICIT SCHEME \n",
    "\n",
    "# Monte Carlo \n",
    "moment2_explicit = []\n",
    "moment4_explicit = []\n",
    "moment6_explicit = []\n",
    "\n",
    "for i_MC in range(0, n_MC):\n",
    "    print(\"MC: \"+str(i_MC+1)+\"/\"+str(n_MC))\n",
    "\n",
    "    samples_explicit = [initial_sample]\n",
    "    samples_explicit_norm = [np.linalg.norm(initial_sample)]\n",
    "\n",
    "    for _ in tqdm(range(1, number_of_samples)):\n",
    "\n",
    "        #gradient step\n",
    "        x = samples_explicit[-1] - time_step * gradient(samples_explicit[-1])  \n",
    "        \n",
    "        # adding Gaussian\n",
    "        cov = np.diag(np.repeat(2*time_step,d))\n",
    "        x = sp.multivariate_normal.rvs(mean=x, cov=cov)\n",
    "        # save value\n",
    "        samples_explicit.append(x)\n",
    "        samples_explicit_norm.append(np.linalg.norm(x))\n",
    "\n",
    "    samples_explicit_norm = np.array(samples_explicit_norm[tune_interval:])\n",
    "\n",
    "    moment2_explicit.append(np.mean(samples_explicit_norm**2))\n",
    "    moment4_explicit.append(np.mean(samples_explicit_norm**4))\n",
    "    moment6_explicit.append(np.mean(samples_explicit_norm**6))"
   ]
  },
  {
   "cell_type": "code",
   "execution_count": 23,
   "metadata": {},
   "outputs": [
    {
     "name": "stdout",
     "output_type": "stream",
     "text": [
      "MC: 1/1\n"
     ]
    },
    {
     "name": "stderr",
     "output_type": "stream",
     "text": [
      "100%|██████████| 19999/19999 [00:42<00:00, 469.95it/s]\n"
     ]
    },
    {
     "data": {
      "text/markdown": [
       "results"
      ],
      "text/plain": [
       "<IPython.core.display.Markdown object>"
      ]
     },
     "metadata": {},
     "output_type": "display_data"
    },
    {
     "data": {
      "text/markdown": [
       "implicit"
      ],
      "text/plain": [
       "<IPython.core.display.Markdown object>"
      ]
     },
     "metadata": {},
     "output_type": "display_data"
    },
    {
     "data": {
      "text/markdown": [
       "2nd: mean = 11247.920604826095, std = 0.0"
      ],
      "text/plain": [
       "<IPython.core.display.Markdown object>"
      ]
     },
     "metadata": {},
     "output_type": "display_data"
    },
    {
     "data": {
      "text/markdown": [
       "4th: mean = 139603582.77516592, std = 0.0"
      ],
      "text/plain": [
       "<IPython.core.display.Markdown object>"
      ]
     },
     "metadata": {},
     "output_type": "display_data"
    },
    {
     "data": {
      "text/markdown": [
       "6th: mean = 1872257285819.172, std = 0.0"
      ],
      "text/plain": [
       "<IPython.core.display.Markdown object>"
      ]
     },
     "metadata": {},
     "output_type": "display_data"
    }
   ],
   "source": [
    "# IMPLICIT INEXACT SCHEME \n",
    "\n",
    "# Monte Carlo \n",
    "moment2_implicit = []\n",
    "moment4_implicit = []\n",
    "moment6_implicit = []\n",
    "\n",
    "for i_MC in range(0, n_MC):\n",
    "    clear_output(wait=True)\n",
    "    print(\"MC: \"+str(i_MC+1)+\"/\"+str(n_MC))\n",
    "\n",
    "    samples_implicit = [initial_sample]\n",
    "    samples_implicit_norm = [np.linalg.norm(initial_sample)]\n",
    "\n",
    "    for _ in tqdm(range(1, number_of_samples)):\n",
    "\n",
    "        # inexact proximal step \n",
    "        x = minimize(\n",
    "            lambda x: potential(x) + 1/(2*time_step) * np.linalg.norm(x - samples_implicit[-1])**2, \n",
    "            jac=lambda x: gradient(x) + 1/time_step * (x - samples_implicit[-1]),\n",
    "            x0=samples_implicit[-1]\n",
    "            ).x\n",
    "        \n",
    "        # adding Gaussian\n",
    "        cov = np.diag(np.repeat(2*time_step,d))\n",
    "        x = sp.multivariate_normal.rvs(mean=x, cov=cov)\n",
    "        # save value\n",
    "        samples_implicit.append(x)\n",
    "        samples_implicit_norm.append(np.linalg.norm(x))\n",
    "\n",
    "    samples_implicit_norm = np.array(samples_implicit_norm[tune_interval:])\n",
    "\n",
    "    moment2_implicit.append(np.mean(samples_implicit_norm**2))\n",
    "    moment4_implicit.append(np.mean(samples_implicit_norm**4))\n",
    "    moment6_implicit.append(np.mean(samples_implicit_norm**6))\n",
    "\n",
    "jupyprint(\"results\")\n",
    "jupyprint(\"implicit\")\n",
    "jupyprint(\"2nd: mean = \" + str(np.mean(moment2_implicit)) + \", std = \" + str(np.std(moment2_implicit)))\n",
    "jupyprint(\"4th: mean = \" + str(np.mean(moment4_implicit)) + \", std = \" + str(np.std(moment4_implicit)))\n",
    "jupyprint(\"6th: mean = \" + str(np.mean(moment6_implicit)) + \", std = \" + str(np.std(moment6_implicit)))"
   ]
  },
  {
   "cell_type": "code",
   "execution_count": 29,
   "metadata": {},
   "outputs": [
    {
     "data": {
      "text/markdown": [
       "results"
      ],
      "text/plain": [
       "<IPython.core.display.Markdown object>"
      ]
     },
     "metadata": {},
     "output_type": "display_data"
    },
    {
     "data": {
      "text/markdown": [
       "implicit"
      ],
      "text/plain": [
       "<IPython.core.display.Markdown object>"
      ]
     },
     "metadata": {},
     "output_type": "display_data"
    },
    {
     "data": {
      "text/markdown": [
       "2nd: mean = 1844232.1098224078, std = 0.0"
      ],
      "text/plain": [
       "<IPython.core.display.Markdown object>"
      ]
     },
     "metadata": {},
     "output_type": "display_data"
    },
    {
     "data": {
      "text/markdown": [
       "4th: mean = 3401405217647.229, std = 0.0"
      ],
      "text/plain": [
       "<IPython.core.display.Markdown object>"
      ]
     },
     "metadata": {},
     "output_type": "display_data"
    },
    {
     "data": {
      "text/markdown": [
       "6th: mean = 6.273765719968522e+18, std = 0.0"
      ],
      "text/plain": [
       "<IPython.core.display.Markdown object>"
      ]
     },
     "metadata": {},
     "output_type": "display_data"
    },
    {
     "data": {
      "text/markdown": [
       "explicit tamed"
      ],
      "text/plain": [
       "<IPython.core.display.Markdown object>"
      ]
     },
     "metadata": {},
     "output_type": "display_data"
    },
    {
     "data": {
      "text/markdown": [
       "2nd: mean = 1840908.7704516256, std = 0.0"
      ],
      "text/plain": [
       "<IPython.core.display.Markdown object>"
      ]
     },
     "metadata": {},
     "output_type": "display_data"
    },
    {
     "data": {
      "text/markdown": [
       "4th: mean = 3389285618962.8945, std = 0.0"
      ],
      "text/plain": [
       "<IPython.core.display.Markdown object>"
      ]
     },
     "metadata": {},
     "output_type": "display_data"
    },
    {
     "data": {
      "text/markdown": [
       "6th: mean = 6.240605494770248e+18, std = 0.0"
      ],
      "text/plain": [
       "<IPython.core.display.Markdown object>"
      ]
     },
     "metadata": {},
     "output_type": "display_data"
    }
   ],
   "source": [
    "# PRINT RESULTS \n",
    "# print reference \n",
    "\n",
    "# jupyprint(\"explicit\")\n",
    "# jupyprint(\"2nd: mean = \" + str(np.mean(moment2_explicit)) + \", std = \" + str(np.std(moment2_explicit)))\n",
    "# jupyprint(\"4th: mean = \" + str(np.mean(moment4_explicit)) + \", std = \" + str(np.std(moment4_explicit)))\n",
    "# jupyprint(\"6th: mean = \" + str(np.mean(moment6_explicit)) + \", std = \" + str(np.std(moment6_explicit)))\n",
    "jupyprint(\"explicit tamed\")\n",
    "jupyprint(\"2nd: mean = \" + str(np.mean(moment2_explicit_tamed)) + \", std = \" + str(np.std(moment2_explicit_tamed)))\n",
    "jupyprint(\"4th: mean = \" + str(np.mean(moment4_explicit_tamed)) + \", std = \" + str(np.std(moment4_explicit_tamed)))\n",
    "jupyprint(\"6th: mean = \" + str(np.mean(moment6_explicit_tamed)) + \", std = \" + str(np.std(moment6_explicit_tamed)))\n"
   ]
  },
  {
   "cell_type": "code",
   "execution_count": 26,
   "metadata": {},
   "outputs": [
    {
     "ename": "TypeError",
     "evalue": "list indices must be integers or slices, not tuple",
     "output_type": "error",
     "traceback": [
      "\u001b[1;31m---------------------------------------------------------------------------\u001b[0m",
      "\u001b[1;31mTypeError\u001b[0m                                 Traceback (most recent call last)",
      "Cell \u001b[1;32mIn[26], line 25\u001b[0m\n\u001b[0;32m     22\u001b[0m sel2 \u001b[38;5;241m=\u001b[39m \u001b[38;5;241m20000\u001b[39m\n\u001b[0;32m     24\u001b[0m plt\u001b[38;5;241m.\u001b[39mfigure()\n\u001b[1;32m---> 25\u001b[0m plt\u001b[38;5;241m.\u001b[39mplot(np\u001b[38;5;241m.\u001b[39marange(sel1, sel2), \u001b[43msamples_metropolis\u001b[49m\u001b[43m[\u001b[49m\u001b[43msel1\u001b[49m\u001b[43m:\u001b[49m\u001b[43msel2\u001b[49m\u001b[43m,\u001b[49m\u001b[43m \u001b[49m\u001b[43mcoord_draw\u001b[49m\u001b[43m]\u001b[49m)\n\u001b[0;32m     26\u001b[0m plt\u001b[38;5;241m.\u001b[39mtitle(\u001b[38;5;124m\"\u001b[39m\u001b[38;5;124mMetropolis\u001b[39m\u001b[38;5;124m\"\u001b[39m)\n\u001b[0;32m     28\u001b[0m \u001b[38;5;66;03m# plt.figure(figsize=(3,2))\u001b[39;00m\n\u001b[0;32m     29\u001b[0m \u001b[38;5;66;03m# plt.plot(np.arange(sel1, sel2), samples_explicit[sel1:sel2, coord_draw])\u001b[39;00m\n\u001b[0;32m     30\u001b[0m \u001b[38;5;66;03m# plt.xlabel(\"$k$\")\u001b[39;00m\n\u001b[1;32m   (...)\u001b[0m\n\u001b[0;32m     40\u001b[0m \u001b[38;5;66;03m# #plt.title(\"explicit tamed\")\u001b[39;00m\n\u001b[0;32m     41\u001b[0m \u001b[38;5;66;03m# plt.savefig(\"explicit_tamed.pdf\")\u001b[39;00m\n",
      "\u001b[1;31mTypeError\u001b[0m: list indices must be integers or slices, not tuple"
     ]
    },
    {
     "data": {
      "text/plain": [
       "<Figure size 640x480 with 0 Axes>"
      ]
     },
     "metadata": {},
     "output_type": "display_data"
    },
    {
     "data": {
      "text/plain": [
       "<Figure size 640x480 with 0 Axes>"
      ]
     },
     "metadata": {},
     "output_type": "display_data"
    }
   ],
   "source": [
    "# plot trajectory of some coordinate \n",
    "plt.figure()\n",
    "\n",
    "coord_draw = 2\n",
    "\n",
    "# plt.style.use(['science'])\n",
    "# plt.rcParams.update({\n",
    "#   #  \"font.family\": \"serif\",   # specify font family here\n",
    "#   #  \"font.serif\": [\"Times\"],  # specify font here\n",
    "#     \"text.usetex\": True,\n",
    "#     } \n",
    "#     )\n",
    "\n",
    "# # plt.rcParams.update({\n",
    "# #   \"text.usetex\": True,\n",
    "# #   \"font.family\": \"serif\", \n",
    "# #   \"font.size\":12\n",
    "# # })\n",
    "\n",
    "# plot trajectory of some coordinate \n",
    "sel1 = 0\n",
    "sel2 = 20000\n",
    "\n",
    "samples_metropolis = np.array(samples_metropolis)\n",
    "plt.figure()\n",
    "plt.plot(np.arange(sel1, sel2), samples_metropolis[sel1:sel2, coord_draw])\n",
    "plt.title(\"Metropolis\")\n",
    "\n",
    "# plt.figure(figsize=(3,2))\n",
    "# plt.plot(np.arange(sel1, sel2), samples_explicit[sel1:sel2, coord_draw])\n",
    "# plt.xlabel(\"$k$\")\n",
    "# plt.ylabel(\"$x_{\"+str(coord_draw)+\"}$\")\n",
    "# #plt.xticks(np.array([0,1,2,3]))\n",
    "# #plt.title(\"explicit\")\n",
    "# #plt.savefig(\"explicit2.pdf\")\n",
    "\n",
    "# plt.figure(figsize=(3,2))\n",
    "# plt.plot(np.arange(sel1, sel2), samples_explicit_tamed[sel1:sel2, coord_draw])\n",
    "# plt.xlabel(\"$k$\")\n",
    "# plt.ylabel(\"$x_{\"+str(coord_draw)+\"}$\")\n",
    "# #plt.title(\"explicit tamed\")\n",
    "# plt.savefig(\"explicit_tamed.pdf\")\n",
    "\n",
    "samples_implicit = np.array(samples_implicit)\n",
    "plt.figure(figsize=(3,2))\n",
    "plt.plot(np.arange(sel1, sel2), samples_implicit[sel1:sel2, coord_draw])\n",
    "plt.xlabel(\"$k$\")\n",
    "plt.ylabel(\"$x_{\"+str(coord_draw)+\"}$\")\n",
    "# #plt.title(\"implicit\")\n",
    "# plt.savefig(\"implicit.pdf\")\n",
    "\n"
   ]
  }
 ],
 "metadata": {
  "kernelspec": {
   "display_name": "venv",
   "language": "python",
   "name": "python3"
  },
  "language_info": {
   "codemirror_mode": {
    "name": "ipython",
    "version": 3
   },
   "file_extension": ".py",
   "mimetype": "text/x-python",
   "name": "python",
   "nbconvert_exporter": "python",
   "pygments_lexer": "ipython3",
   "version": "3.12.0"
  }
 },
 "nbformat": 4,
 "nbformat_minor": 2
}
