{
 "cells": [
  {
   "cell_type": "code",
   "execution_count": null,
   "metadata": {},
   "outputs": [],
   "source": [
    "import numpy as np\n",
    "from scipy.integrate import tplquad \n",
    "from jupyprint import jupyprint, arraytex\n",
    "from numdifftools import Hessian, Jacobian"
   ]
  },
  {
   "cell_type": "code",
   "execution_count": null,
   "metadata": {},
   "outputs": [],
   "source": [
    "# reference\n",
    "# constant Z\n",
    "constant_Z = tplquad(\n",
    "    lambda x, y, z: np.exp(-np.linalg.norm(np.array([x, y, z]))**4/4), \n",
    "    -np.inf, np.inf,\n",
    "    -np.inf, np.inf,\n",
    "    -np.inf, np.inf)[0]"
   ]
  },
  {
   "cell_type": "code",
   "execution_count": null,
   "metadata": {},
   "outputs": [],
   "source": [
    "# reference\n",
    "# constant Z\n",
    "EX2 = tplquad(\n",
    "    lambda x, y, z: np.linalg.norm(np.array([x, y, z])) ** 2 \\\n",
    "        * np.exp(-np.linalg.norm(np.array([x, y, z]))**4/4) / constant_Z, \n",
    "    -np.inf, np.inf,\n",
    "    -np.inf, np.inf,\n",
    "    -np.inf, np.inf\n",
    "    )[0]\n",
    "\n",
    "EX4 = tplquad(\n",
    "    lambda x, y, z: np.linalg.norm(np.array([x, y, z])) ** 4 \\\n",
    "        * np.exp(-np.linalg.norm(np.array([x, y, z]))**4/4) / constant_Z, \n",
    "    -np.inf, np.inf,\n",
    "    -np.inf, np.inf,\n",
    "    -np.inf, np.inf\n",
    "    )[0]\n",
    "\n",
    "EX6 = tplquad(\n",
    "    lambda x, y, z: np.linalg.norm(np.array([x, y, z])) ** 6 \\\n",
    "        * np.exp(-np.linalg.norm(np.array([x, y, z]))**4/4) / constant_Z, \n",
    "    -np.inf, np.inf,\n",
    "    -np.inf, np.inf,\n",
    "    -np.inf, np.inf\n",
    "    )[0]"
   ]
  },
  {
   "cell_type": "code",
   "execution_count": null,
   "metadata": {},
   "outputs": [],
   "source": [
    "# define stationary distribution \n",
    "def density(x:float) -> float:\n",
    "    return np.exp(-potential(x))/constant_Z"
   ]
  },
  {
   "cell_type": "code",
   "execution_count": null,
   "metadata": {},
   "outputs": [],
   "source": [
    "# test of gradient \n",
    "h = 1e-5\n",
    "x0 = np.array([0,-1,3])\n",
    "\n",
    "jupyprint(\"$\\\\hat{f}(x_0) = \"+str(arraytex(Jacobian(potential)(x0)))+\"$\")\n",
    "jupyprint(\"$f(x_0) = \"+str(arraytex(gradient(x0)))+\"$\")\n",
    "jupyprint(\"$\\\\hat{f}^2(x_0) = \"+str(arraytex(Hessian(potential)(x0)))+\"$\")\n",
    "jupyprint(\"$f^2(x_0) = \"+str(arraytex(hessian(x0)))+\"$\")"
   ]
  },
  {
   "cell_type": "code",
   "execution_count": null,
   "metadata": {},
   "outputs": [],
   "source": [
    "jupyprint(f\"$Z = {constant_Z}$\")\n",
    "jupyprint(\"$\\\\mathbb{E} |X|^2 = \"+ str(EX2)+\"$\" )\n",
    "jupyprint(\"$\\\\mathbb{E} |X|^4 = \"+ str(EX4)+\"$\" )\n",
    "jupyprint(\"$\\\\mathbb{E} |X|^6 = \"+ str(EX6)+\"$\" )"
   ]
  },
  {
   "cell_type": "code",
   "execution_count": null,
   "metadata": {},
   "outputs": [],
   "source": [
    "# TRASH BIN FOR HAMILTONIAN MCMC\n",
    "\n",
    "# Hamiltonian Monte Carlo\n",
    "M = 1\n",
    "L = 200\n",
    "epsilon = 0.1\n",
    "\n",
    "# assign Hamiltonian\n",
    "hamiltonian = lambda p,q: potential(p) + 1/2 * q.T.dot(np.linalg.inv(M)).dot(q)\n",
    "\n",
    "\n",
    "for i_MC in range(0, n_MC):\n",
    "    clear_output(wait=True)\n",
    "    print(\"MC: \"+str(i_MC+1)+\"/\"+str(n_MC))\n",
    "\n",
    "    samples_hamiltonian = [initial_sample]\n",
    "\n",
    "    accept_count = 0\n",
    "\n",
    "    for _ in tqdm(range(1, number_of_samples)):\n",
    "\n",
    "        # get proposal -> Hamiltonian mechanics\n",
    "        # draw momnentum q\n",
    "        q0 = sp.norm.rvs(loc = 0,scale=M, size=d)\n",
    "        #assign position\n",
    "        p0 = samples_hamiltonian[-1]\n",
    "\n",
    "\n",
    "        p = p0\n",
    "        q = q0\n",
    "        # Leagprof algorithm\n",
    "        for i_L in range(0,L):\n",
    "            q = q - epsilon/2 * gradient(p)\n",
    "            p = p + epsilon * q\n",
    "            q = q - epsilon/2 * gradient(p)\n",
    "        \n",
    "        if hamiltonian(p0,q0) == 0:\n",
    "            alpha = 1\n",
    "        else:\n",
    "            alpha = np.min([\n",
    "                1,\n",
    "                np.exp(-hamiltonian(p,q))/np.exp(-hamiltonian(p0,q0))\n",
    "                ])\n",
    "\n",
    "        u = sp.uniform.rvs()\n",
    "\n",
    "        if u <= alpha:\n",
    "            samples_hamiltonian.append(p)\n",
    "            samples_hamiltonian_norm.append(np.linalg.norm(p))\n",
    "            accept_count += 1\n",
    "        else:\n",
    "            samples_hamiltonian.append(p0)\n",
    "            samples_hamiltonian_norm.append(samples_hamiltonian_norm[-1])\n",
    "\n",
    "    jupyprint(\"acceptance rate = $\" + str(np.round(accept_count/number_of_samples))+ \"$\")\n",
    "\n",
    "    samples_hamiltonian = np.array(samples_hamiltonian[tune_interval:])\n",
    "    samples_hamiltonian_norm = np.array(samples_hamiltonian_norm[tune_interval:])\n",
    "\n",
    "    moment2_hamiltonian.append(np.mean(samples_hamiltonian_norm**2))\n",
    "    moment4_hamiltonian.append(np.mean(samples_hamiltonian_norm**4))\n",
    "    moment6_hamiltonian.append(np.mean(samples_hamiltonian_norm**6))"
   ]
  }
 ],
 "metadata": {
  "language_info": {
   "name": "python"
  }
 },
 "nbformat": 4,
 "nbformat_minor": 2
}
