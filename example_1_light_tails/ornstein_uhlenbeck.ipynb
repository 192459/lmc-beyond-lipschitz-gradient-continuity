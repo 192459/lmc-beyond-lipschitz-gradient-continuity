{
 "cells": [
  {
   "cell_type": "markdown",
   "metadata": {},
   "source": []
  },
  {
   "cell_type": "markdown",
   "metadata": {},
   "source": [
    "# Sampling from Light Tailed Distribution \n",
    "\n",
    "In this notebook we consider a simple and natural case where the potential has non-Lipschitz gradient.\n",
    "Our goal is to sample from the density \n",
    "\\begin{equation*}\n",
    "\\mu^*(x) \\propto \\exp{\\big(-\\tfrac{|x|^4}{4} \\big)} \\, ,\n",
    "\\end{equation*}\n",
    "which is a~stationary distribution of the process \n",
    "\\begin{equation*}\n",
    "\\mathrm{d} Y_t = -Y_t^3 \\, \\mathrm{d} t + \\sqrt{2} \\, \\mathrm{d} B_t \\,.\n",
    "\\end{equation*}\n",
    "We estimate the moments $\\mathbb{E} |Y|^2$, $\\mathbb{E} |Y|^4$, and $\\mathbb{E} |Y|^6$ in dimension $d=10^3$. For error analysis as true values of the estimated quantities, we use the Metropolis-Hastings algorithm with $10^7$ iterations.\n",
    "Note that $\\nabla V$ is not globally Lipschitz and $V$ is $1$-convex outside a ball, so the assumptions on the convergence of Unadjusted Langevin Algorithm (ULA) are not satisfied, but the convergence of Tamed Unadjusted Langevin Algorithm (TULA) and our Inexact Proximal Langevin Algorithm (IPLA) is ensured. \n"
   ]
  },
  {
   "cell_type": "markdown",
   "metadata": {},
   "source": [
    "### Load neccessary libraries:"
   ]
  },
  {
   "cell_type": "code",
   "execution_count": 1,
   "metadata": {},
   "outputs": [],
   "source": [
    "import numpy as np\n",
    "from tqdm import tqdm\n",
    "import scipy.stats as sp\n",
    "from scipy.special import gamma\n",
    "from scipy.optimize import minimize\n",
    "from scipy.integrate import tplquad \n",
    "from jupyprint import jupyprint, arraytex\n",
    "import matplotlib.pyplot as plt\n",
    "import scienceplots\n",
    "from IPython.display import clear_output"
   ]
  },
  {
   "cell_type": "markdown",
   "metadata": {},
   "source": [
    "### Define the Parameters of the Run:"
   ]
  },
  {
   "cell_type": "code",
   "execution_count": 2,
   "metadata": {},
   "outputs": [],
   "source": [
    "# PARAMETERS OF THE RUN\n",
    "initial_sample = 0*np.ones(1000)\n",
    "d = len(initial_sample)\n",
    "time_step = 1e-5\n",
    "sampling = 10**5\n",
    "n_MC = 3\n",
    "tune_interval = 10**4\n",
    "number_of_samples = sampling+tune_interval"
   ]
  },
  {
   "cell_type": "markdown",
   "metadata": {},
   "source": [
    "### Define determination of the target density $\\mu^*$, the potential $V$, its gradient $\\nabla V$ and Hessian $\\nabla^2 V$"
   ]
  },
  {
   "cell_type": "code",
   "execution_count": null,
   "metadata": {},
   "outputs": [],
   "source": [
    "# define a potential and its gradient\n",
    "def potential(x:float) -> float:\n",
    "    return np.linalg.norm(x)**4/4\n",
    "\n",
    "def gradient(x:float) -> float:\n",
    "    return np.linalg.norm(x)**2 * x\n",
    "\n",
    "def hessian(x:float) -> float:\n",
    "    return 2 * np.outer(x,x) + np.linalg.norm(x)**2 * np.eye(x.shape[0])\n",
    "\n",
    "# for implicit optimization part\n",
    "def hessian_p(x: float, p:float) -> float:\n",
    "    return 2 * x * (np.dot(x,p)) + np.linalg.norm(x)**2 * p + 1/time_step * p\n"
   ]
  },
  {
   "cell_type": "markdown",
   "metadata": {},
   "source": [
    "For the compuation of the reference values of moments $\\mathbb{E} |Y|^2$, $\\mathbb{E} |Y|^4$, and $\\mathbb{E} |Y|^6$, se the Juputer notebook $\\mathtt{reference.ipynb}$. In this notebook, we just assign the computed values."
   ]
  },
  {
   "cell_type": "code",
   "execution_count": 4,
   "metadata": {},
   "outputs": [],
   "source": [
    "#reference value \n",
    "EX2 = 31.61232243\n",
    "EX4 = 1000.318801\n",
    "EX6 = 31684.37599"
   ]
  },
  {
   "cell_type": "markdown",
   "metadata": {},
   "source": [
    "To simplify code latter, we introduce functions which return relatice error (RE) and coefficient of variance (CV). "
   ]
  },
  {
   "cell_type": "code",
   "execution_count": 5,
   "metadata": {},
   "outputs": [],
   "source": [
    "def relative_error(samples, reference):\n",
    "    output_double = np.abs(np.mean(samples)-reference)/reference\n",
    "    output_str = str(np.round(output_double, 4))\n",
    "    return output_str\n",
    "\n",
    "def coefficient_of_variance(samples):\n",
    "    output_double = np.std(samples)/np.mean(samples)\n",
    "    output_str = str(np.round(output_double, 4))\n",
    "    return output_str\n",
    "\n",
    "def print_re_cv(samples):\n",
    "\n",
    "    # delete burn-in samples\n",
    "    samples = samples[:, tune_interval:, :]\n",
    "\n",
    "    samples_norms = np.linalg.norm(samples, axis=2)\n",
    "\n",
    "    moment2 = np.mean(samples_norms**2, axis=1)\n",
    "    moment4 = np.mean(samples_norms**4, axis=1)\n",
    "    moment6 = np.mean(samples_norms**6, axis=1)\n",
    "\n",
    "    jupyprint(\"$\\\\mathbb{E} |X|^2: \\\\quad \\\\mathrm{RE} = \"+relative_error(moment2, EX2)\n",
    "            + \",\\\\quad\\\\mathrm{CV} = \" + coefficient_of_variance(moment2)+\"$\")\n",
    "    jupyprint(\"$\\\\mathbb{E} |X|^4: \\\\quad \\\\mathrm{RE} = \"+relative_error(moment4, EX4)\n",
    "            + \",\\\\quad\\\\mathrm{CV} = \" + coefficient_of_variance(moment4)+\"$\")\n",
    "    jupyprint(\"$\\\\mathbb{E} |X|^6: \\\\quad \\\\mathrm{RE} = \"+relative_error(moment6, EX6)\n",
    "            + \",\\\\quad\\\\mathrm{CV} = \" + coefficient_of_variance(moment6)+\"$\")"
   ]
  },
  {
   "cell_type": "markdown",
   "metadata": {},
   "source": [
    "### Tamed Unadjusted Langevin Algorithm (TULA)"
   ]
  },
  {
   "cell_type": "code",
   "execution_count": 8,
   "metadata": {},
   "outputs": [
    {
     "name": "stdout",
     "output_type": "stream",
     "text": [
      "3/3\n"
     ]
    },
    {
     "name": "stderr",
     "output_type": "stream",
     "text": [
      "100%|██████████| 109999/109999 [00:04<00:00, 25383.81it/s]\n"
     ]
    },
    {
     "data": {
      "text/markdown": [
       "$\\mathbb{E} |X|^2: \\quad \\mathrm{RE} = 0.0024,\\quad\\mathrm{CV} = 0.003$"
      ],
      "text/plain": [
       "<IPython.core.display.Markdown object>"
      ]
     },
     "metadata": {},
     "output_type": "display_data"
    },
    {
     "data": {
      "text/markdown": [
       "$\\mathbb{E} |X|^4: \\quad \\mathrm{RE} = 0.0048,\\quad\\mathrm{CV} = 0.0059$"
      ],
      "text/plain": [
       "<IPython.core.display.Markdown object>"
      ]
     },
     "metadata": {},
     "output_type": "display_data"
    },
    {
     "data": {
      "text/markdown": [
       "$\\mathbb{E} |X|^6: \\quad \\mathrm{RE} = 0.0071,\\quad\\mathrm{CV} = 0.0087$"
      ],
      "text/plain": [
       "<IPython.core.display.Markdown object>"
      ]
     },
     "metadata": {},
     "output_type": "display_data"
    }
   ],
   "source": [
    "samples_tula = np.empty((n_MC, number_of_samples, d))\n",
    "\n",
    "for i_MC in range(0, n_MC):\n",
    "\n",
    "    clear_output()\n",
    "    print(str(i_MC+1)+\"/\"+str(n_MC))\n",
    "\n",
    "    samples_tula[i_MC, 0,:] = initial_sample\n",
    "\n",
    "    for i_sample in tqdm(range(1, number_of_samples)):\n",
    "\n",
    "        previous_samples = samples_tula[i_MC, i_sample-1, :]\n",
    "\n",
    "        # gradient tamed step\n",
    "        x = previous_samples  \\\n",
    "            - time_step * gradient(previous_samples)  \\\n",
    "            / (1+time_step*np.linalg.norm(gradient(previous_samples))) \n",
    "        \n",
    "        # adding Gaussian\n",
    "        x = x + sp.norm.rvs(loc=0, scale=np.sqrt(2*time_step), size=d)\n",
    "        # save value\n",
    "        samples_tula[i_MC, i_sample, :] = x\n",
    "\n",
    "print_re_cv(samples_tula)"
   ]
  },
  {
   "cell_type": "markdown",
   "metadata": {},
   "source": [
    "### Unadjusted Langevin Algorithm (ULA)"
   ]
  },
  {
   "cell_type": "code",
   "execution_count": 7,
   "metadata": {},
   "outputs": [
    {
     "name": "stdout",
     "output_type": "stream",
     "text": [
      "3/3\n"
     ]
    },
    {
     "name": "stderr",
     "output_type": "stream",
     "text": [
      "100%|██████████| 109999/109999 [00:03<00:00, 29316.95it/s]\n"
     ]
    },
    {
     "data": {
      "text/markdown": [
       "$\\mathbb{E} |X|^2: \\quad \\mathrm{RE} = 0.0014,\\quad\\mathrm{CV} = 0.0035$"
      ],
      "text/plain": [
       "<IPython.core.display.Markdown object>"
      ]
     },
     "metadata": {},
     "output_type": "display_data"
    },
    {
     "data": {
      "text/markdown": [
       "$\\mathbb{E} |X|^4: \\quad \\mathrm{RE} = 0.0028,\\quad\\mathrm{CV} = 0.007$"
      ],
      "text/plain": [
       "<IPython.core.display.Markdown object>"
      ]
     },
     "metadata": {},
     "output_type": "display_data"
    },
    {
     "data": {
      "text/markdown": [
       "$\\mathbb{E} |X|^6: \\quad \\mathrm{RE} = 0.0043,\\quad\\mathrm{CV} = 0.0105$"
      ],
      "text/plain": [
       "<IPython.core.display.Markdown object>"
      ]
     },
     "metadata": {},
     "output_type": "display_data"
    }
   ],
   "source": [
    "samples_ula = np.empty((n_MC, number_of_samples, d))\n",
    "\n",
    "for i_MC in range(0, n_MC):\n",
    "\n",
    "    clear_output()\n",
    "    print(str(i_MC+1)+\"/\"+str(n_MC))\n",
    "\n",
    "    samples_ula[i_MC, 0,:] = initial_sample\n",
    "\n",
    "    for i_sample in tqdm(range(1, number_of_samples)):\n",
    "\n",
    "        previous_samples = samples_ula[i_MC, i_sample-1, :]\n",
    "\n",
    "        #gradient step\n",
    "        x = previous_samples - time_step * gradient(previous_samples)  \n",
    "        \n",
    "        # adding Gaussian\n",
    "        x = x + sp.norm.rvs(loc=0, scale=np.sqrt(2*time_step), size=d)\n",
    "        \n",
    "        # save value\n",
    "        samples_ula[i_MC, i_sample, :] = x\n",
    "\n",
    "print_re_cv(samples_ula)"
   ]
  },
  {
   "cell_type": "code",
   "execution_count": 9,
   "metadata": {},
   "outputs": [
    {
     "name": "stdout",
     "output_type": "stream",
     "text": [
      "3/3\n"
     ]
    },
    {
     "name": "stderr",
     "output_type": "stream",
     "text": [
      "100%|██████████| 109999/109999 [01:12<00:00, 1508.13it/s]\n"
     ]
    },
    {
     "data": {
      "text/markdown": [
       "$\\mathbb{E} |X|^2: \\quad \\mathrm{RE} = 0.0014,\\quad\\mathrm{CV} = 0.0035$"
      ],
      "text/plain": [
       "<IPython.core.display.Markdown object>"
      ]
     },
     "metadata": {},
     "output_type": "display_data"
    },
    {
     "data": {
      "text/markdown": [
       "$\\mathbb{E} |X|^4: \\quad \\mathrm{RE} = 0.0028,\\quad\\mathrm{CV} = 0.007$"
      ],
      "text/plain": [
       "<IPython.core.display.Markdown object>"
      ]
     },
     "metadata": {},
     "output_type": "display_data"
    },
    {
     "data": {
      "text/markdown": [
       "$\\mathbb{E} |X|^6: \\quad \\mathrm{RE} = 0.0043,\\quad\\mathrm{CV} = 0.0105$"
      ],
      "text/plain": [
       "<IPython.core.display.Markdown object>"
      ]
     },
     "metadata": {},
     "output_type": "display_data"
    }
   ],
   "source": [
    "samples_ipla = np.empty((n_MC, number_of_samples, d))\n",
    "\n",
    "for i_MC in range(0, n_MC):\n",
    "\n",
    "    clear_output()\n",
    "    print(str(i_MC+1)+\"/\"+str(n_MC))\n",
    "\n",
    "    samples_ipla[i_MC, 0,:] = initial_sample\n",
    "\n",
    "    for i_sample in tqdm(range(1, number_of_samples)):\n",
    "\n",
    "        previous_samples = samples_ula[i_MC, i_sample-1, :]\n",
    "\n",
    "        # inexact proximal step \n",
    "        x = minimize(\n",
    "            lambda x: potential(x) + 1/(2*time_step) * np.linalg.norm(x - previous_samples)**2, \n",
    "            jac=lambda x: gradient(x) + 1/time_step * (x - previous_samples),\n",
    "            hessp=hessian_p,\n",
    "            x0=previous_samples, \n",
    "            method=\"Newton-CG\"\n",
    "            ).x\n",
    "        \n",
    "        # adding Gaussian\n",
    "        x = x + sp.norm.rvs(loc=0, scale=np.sqrt(2*time_step), size=d)\n",
    "\n",
    "        # save value\n",
    "        samples_ipla[i_MC, i_sample, :] = x\n",
    "\n",
    "print_re_cv(samples_ipla)"
   ]
  },
  {
   "cell_type": "code",
   "execution_count": 19,
   "metadata": {},
   "outputs": [
    {
     "data": {
      "image/png": "[encoded data removed]",
      "text/plain": [
       "<Figure size 570x170 with 1 Axes>"
      ]
     },
     "metadata": {},
     "output_type": "display_data"
    },
    {
     "data": {
      "image/png": "[encoded data removed]",
      "text/plain": [
       "<Figure size 570x170 with 1 Axes>"
      ]
     },
     "metadata": {},
     "output_type": "display_data"
    }
   ],
   "source": [
    "#select Monte Carlo run to draw\n",
    "mc_draw = 0\n",
    "\n",
    "# select coordinate to draw\n",
    "coord_draw = 1\n",
    "\n",
    "# select time interval to draw\n",
    "sel1 = 0\n",
    "sel2 = 600\n",
    "\n",
    "#plt.style.use(['science'])\n",
    "plt.rcParams.update({\n",
    "    \"font.family\": \"serif\",   # specify font family here\n",
    "    \"font.serif\": [\"Times\"],  # specify font here\n",
    "    \"text.usetex\": True,\n",
    "    } \n",
    "    )\n",
    "\n",
    "\n",
    "plt.figure(figsize=(5.7,1.7))\n",
    "plt.plot(np.arange(sel1, sel2), samples_ipla[mc_draw, sel1:sel2, coord_draw], label=\"IPLA\")\n",
    "plt.plot(np.arange(sel1, sel2), samples_tula[mc_draw, sel1:sel2, coord_draw], label=\"TULA\")\n",
    "plt.plot(np.arange(sel1, sel2), samples_ula[mc_draw, sel1:sel2, coord_draw], label=\"ULA\")\n",
    "plt.legend()\n",
    "plt.xlabel(\"$k$\")\n",
    "plt.ylabel(\"$x_{\"+str(coord_draw)+\"}$\")\n",
    "plt.tight_layout()\n",
    "\n",
    "\n",
    "plt.figure(figsize=(5.7,1.7))\n",
    "plt.plot(np.arange(sel1, sel2), samples_ipla[mc_draw, sel1:sel2, coord_draw], label=\"IPLA\")\n",
    "plt.plot(np.arange(sel1, sel2), samples_tula[mc_draw, sel1:sel2, coord_draw], label=\"TULA\")\n",
    "plt.legend()\n",
    "plt.xlabel(\"$k$\")\n",
    "plt.ylabel(\"$x_{\"+str(coord_draw)+\"}$\")\n",
    "plt.tight_layout()"
   ]
  }
 ],
 "metadata": {
  "kernelspec": {
   "display_name": ".venv",
   "language": "python",
   "name": "python3"
  },
  "language_info": {
   "codemirror_mode": {
    "name": "ipython",
    "version": 3
   },
   "file_extension": ".py",
   "mimetype": "text/x-python",
   "name": "python",
   "nbconvert_exporter": "python",
   "pygments_lexer": "ipython3",
   "version": "3.12.0"
  }
 },
 "nbformat": 4,
 "nbformat_minor": 2
}
