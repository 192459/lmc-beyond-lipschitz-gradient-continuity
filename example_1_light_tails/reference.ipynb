{
 "cells": [
  {
   "cell_type": "markdown",
   "metadata": {},
   "source": [
    "# Reference \n",
    "\n",
    "In this jupyter notebook we get reference for the distribution with light tails such that \n",
    "\\begin{equation*}\n",
    "\\mu^* \\propto \\exp \\big(-\\tfrac{|x|^4}{4} \\big) \\\n",
    "\\end{equation*}\n",
    "with the standard Metropolis-Hastings algortihm.\n",
    "\n",
    "Load necessary libraries:"
   ]
  },
  {
   "cell_type": "code",
   "execution_count": null,
   "metadata": {},
   "outputs": [],
   "source": [
    "import numpy as np\n",
    "from tqdm import tqdm\n",
    "import scipy.stats as sp\n",
    "import matplotlib.pyplot as plt\n",
    "import jupyprint as jp"
   ]
  },
  {
   "cell_type": "markdown",
   "metadata": {},
   "source": [
    "We define the parameters of the run:"
   ]
  },
  {
   "cell_type": "code",
   "execution_count": null,
   "metadata": {},
   "outputs": [],
   "source": [
    "# PARAMETERS OF THE RUN\n",
    "initial_sample = 0*np.ones(1000)\n",
    "d = len(initial_sample)\n",
    "time_step = 1e-2\n",
    "sampling = 10**7\n",
    "n_MC = 100\n",
    "tune_interval = 10000\n",
    "number_of_samples = sampling+tune_interval"
   ]
  },
  {
   "cell_type": "markdown",
   "metadata": {},
   "source": [
    "We define potential function:"
   ]
  },
  {
   "cell_type": "code",
   "execution_count": null,
   "metadata": {},
   "outputs": [],
   "source": [
    "# define a potential and its gradient\n",
    "def potential(x:float) -> float:\n",
    "    return np.linalg.norm(x)**4/4\n",
    "\n",
    "def density_c(x:float) -> float:\n",
    "    return np.exp(-potential(x))"
   ]
  },
  {
   "cell_type": "markdown",
   "metadata": {},
   "source": [
    "Run the Metropolis-Hastings algorithm and then estimate moments $\\mathbb{E} |X|^2$, $\\mathbb{E} |X|^4$, $\\mathbb{E} |X|^6$."
   ]
  },
  {
   "cell_type": "code",
   "execution_count": null,
   "metadata": {},
   "outputs": [
    {
     "name": "stderr",
     "output_type": "stream",
     "text": [
      "100%|██████████| 109999/109999 [00:28<00:00, 3884.00it/s]\n"
     ]
    },
    {
     "data": {
      "text/markdown": [
       "$ \\text{acceptance rate   } \\alpha = 0.214$"
      ],
      "text/plain": [
       "<IPython.core.display.Markdown object>"
      ]
     },
     "metadata": {},
     "output_type": "display_data"
    },
    {
     "data": {
      "text/markdown": [
       "$ \\mathbb{E} |X|^2 = 31.62063663145503$"
      ],
      "text/plain": [
       "<IPython.core.display.Markdown object>"
      ]
     },
     "metadata": {},
     "output_type": "display_data"
    },
    {
     "data": {
      "text/markdown": [
       "$ \\mathbb{E} |X|^4 = 1000.7186255724904$"
      ],
      "text/plain": [
       "<IPython.core.display.Markdown object>"
      ]
     },
     "metadata": {},
     "output_type": "display_data"
    },
    {
     "data": {
      "text/markdown": [
       "$ \\mathbb{E} |X|^6 = 31697.446927841163$"
      ],
      "text/plain": [
       "<IPython.core.display.Markdown object>"
      ]
     },
     "metadata": {},
     "output_type": "display_data"
    }
   ],
   "source": [
    "#Metropolis algorithm\n",
    "\n",
    "accept_count = 0\n",
    "\n",
    "number_of_samples_metropolis = 10**5 + tune_interval\n",
    "\n",
    "samples_metropolis = [np.zeros(d)]\n",
    "samples_metropolis_norms = [np.linalg.norm(samples_metropolis[-1])]\n",
    "\n",
    "for _ in tqdm(range(1, number_of_samples_metropolis)):\n",
    "\n",
    "    # get proposal\n",
    "    proposal = samples_metropolis[-1] + sp.norm.rvs(\n",
    "        loc=0, \n",
    "        scale=0.014, \n",
    "        size=d\n",
    "        )\n",
    "    \n",
    "    if density_c(samples_metropolis[-1]) == 0:\n",
    "        alpha = 1\n",
    "    else:\n",
    "        alpha = density_c(proposal)/density_c(samples_metropolis[-1])\n",
    "\n",
    "    u = sp.uniform.rvs()\n",
    "\n",
    "    if u <= alpha:\n",
    "        samples_metropolis.append(proposal)\n",
    "        accept_count += 1\n",
    "    else:\n",
    "        samples_metropolis.append(samples_metropolis[-1])\n",
    "\n",
    "    samples_metropolis_norms.append(np.linalg.norm(samples_metropolis[-1]))\n",
    "    \n",
    "\n",
    "\n",
    "jp.jupyprint(\"$ \\\\text{acceptance rate   } \\\\alpha = \" + str(np.round(accept_count/number_of_samples_metropolis, 3))+ \"$\")\n",
    "\n",
    "samples_metropolis = np.array(samples_metropolis[tune_interval:])\n",
    "samples_metropolis_norms = np.array(samples_metropolis_norms[tune_interval:])\n",
    "    \n",
    "jp.jupyprint(\"$ \\mathbb{E} |X|^2 = \" + str(np.mean(samples_metropolis_norms**2)) + \"$\")\n",
    "jp.jupyprint(\"$ \\mathbb{E} |X|^4 = \" + str(np.mean(samples_metropolis_norms**4)) + \"$\")\n",
    "jp.jupyprint(\"$ \\mathbb{E} |X|^6 = \" + str(np.mean(samples_metropolis_norms**6)) + \"$\")"
   ]
  },
  {
   "cell_type": "markdown",
   "metadata": {},
   "source": [
    "Plot the trace of a selected coordinate at selected interval"
   ]
  },
  {
   "cell_type": "code",
   "execution_count": null,
   "metadata": {},
   "outputs": [
    {
     "data": {
      "text/markdown": [
       "$\\text{Note: First }10000\\text{ samples were burned.}$"
      ],
      "text/plain": [
       "<IPython.core.display.Markdown object>"
      ]
     },
     "metadata": {},
     "output_type": "display_data"
    },
    {
     "data": {
      "text/plain": [
       "Text(18.801307704614644, 0.5, '$x_{1}$')"
      ]
     },
     "execution_count": 19,
     "metadata": {},
     "output_type": "execute_result"
    },
    {
     "data": {
      "image/png": "[encoded data removed]",
      "text/plain": [
       "<Figure size 500x200 with 1 Axes>"
      ]
     },
     "metadata": {},
     "output_type": "display_data"
    }
   ],
   "source": [
    "coord_draw = 1\n",
    "\n",
    "#plt.style.use(['science'])\n",
    "plt.rcParams.update({\n",
    "    \"font.family\": \"serif\",   # specify font family here\n",
    "    \"font.serif\": [\"Times\"],  # specify font here\n",
    "    \"text.usetex\": True,\n",
    "    } \n",
    "    )\n",
    "\n",
    "\n",
    "# plot trajectory of some coordinate \n",
    "sel1 = 0\n",
    "sel2 = 10000\n",
    "\n",
    "jp.jupyprint(\"$\\\\text{Note: First }\" + str(tune_interval) + \"\\\\text{ samples were burned.}$\")\n",
    "\n",
    "plt.figure(figsize=(5,2))\n",
    "plt.plot(np.arange(sel1, sel2), samples_metropolis[sel1:sel2, coord_draw], color=\"C3\")\n",
    "plt.tight_layout()\n",
    "plt.xlabel(\"$k$\")\n",
    "plt.ylabel(\"$x_{\"+str(coord_draw)+\"}$\")\n"
   ]
  }
 ],
 "metadata": {
  "kernelspec": {
   "display_name": ".venv",
   "language": "python",
   "name": "python3"
  },
  "language_info": {
   "codemirror_mode": {
    "name": "ipython",
    "version": 3
   },
   "file_extension": ".py",
   "mimetype": "text/x-python",
   "name": "python",
   "nbconvert_exporter": "python",
   "pygments_lexer": "ipython3",
   "version": "3.12.0"
  }
 },
 "nbformat": 4,
 "nbformat_minor": 2
}
