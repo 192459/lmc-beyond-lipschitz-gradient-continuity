{
 "cells": [
  {
   "cell_type": "markdown",
   "metadata": {},
   "source": [
    "# Sampling from Light Tail Distribution: Error $\\delta$ in optimisation step \n",
    "\n",
    "In this notebook we consider a simple and natural case where the potential has non-Lipschitz gradient.\n",
    "Our goal is to sample from the density \n",
    "\\begin{equation*}\n",
    "\\mu^*(x) \\propto \\exp{\\big(-\\tfrac{|x|^4}{4} \\big)} \\, ,\n",
    "\\end{equation*}\n",
    "which is a~stationary distribution of the process \n",
    "\\begin{equation*}\n",
    "\\mathrm{d} Y_t = -Y_t^3 \\, \\mathrm{d} t + \\sqrt{2} \\, \\mathrm{d} B_t \\,.\n",
    "\\end{equation*}\n",
    "\n",
    "We provide the test with respect to controlled numerical error in the optimization step $\\delta$."
   ]
  },
  {
   "cell_type": "markdown",
   "metadata": {},
   "source": [
    "Load libraries"
   ]
  },
  {
   "cell_type": "code",
   "execution_count": 1,
   "metadata": {},
   "outputs": [],
   "source": [
    "import numpy as np\n",
    "from tqdm import tqdm\n",
    "import scipy.stats as sp\n",
    "from scipy.optimize import minimize\n",
    "import matplotlib.pyplot as plt"
   ]
  },
  {
   "cell_type": "markdown",
   "metadata": {},
   "source": [
    "### Set up the parameters of the run: "
   ]
  },
  {
   "cell_type": "code",
   "execution_count": null,
   "metadata": {},
   "outputs": [],
   "source": [
    "# PARAMETERS OF THE RUN\n",
    "initial_sample = 0*np.ones(1000)\n",
    "d = len(initial_sample)\n",
    "time_step = 5e-5\n",
    "sampling = 10**3\n",
    "n_MC = 100\n",
    "tune_interval = 10**2\n",
    "number_of_samples = sampling+tune_interval\n",
    "\n",
    "delta_vector = np.array([1e-6, 1e-5, 2.5e-3])\n",
    "#delta_vector = np.array([1e-4, 3e-4, 6e-4, 9e-4, 1e-3, 2e-3, 3e-3])\n",
    "#delta_vector = np.array([2,3,5,10])"
   ]
  },
  {
   "cell_type": "markdown",
   "metadata": {},
   "source": [
    "For the compuation of the reference values of moments $\\mathbb{E} |Y|^2$, $\\mathbb{E} |Y|^4$, and $\\mathbb{E} |Y|^6$, se the Juputer notebook $\\mathtt{reference.ipynb}$. In this notebook, we just assign the computed values."
   ]
  },
  {
   "cell_type": "code",
   "execution_count": 3,
   "metadata": {},
   "outputs": [],
   "source": [
    "#reference value \n",
    "EX2 = 31.61232243\n",
    "EX4 = 1000.318801\n",
    "EX6 = 31684.37599"
   ]
  },
  {
   "cell_type": "markdown",
   "metadata": {},
   "source": [
    "To simplify code latter, we introduce functions which return relatice error (RE) and coefficient of variance (CV). "
   ]
  },
  {
   "cell_type": "code",
   "execution_count": 4,
   "metadata": {},
   "outputs": [],
   "source": [
    "# define a potential and its gradient\n",
    "def potential(x:float) -> float:\n",
    "    return np.linalg.norm(x)**4/4\n",
    "\n",
    "def gradient(x:float) -> float:\n",
    "    return np.linalg.norm(x)**2 * x\n",
    "\n",
    "def hessian_p(x: float, p:float) -> float:\n",
    "    return 2 * x * (np.dot(x,p)) + np.linalg.norm(x)**2 * p  # + 1/time_step * p\n",
    "\n",
    "def comp_moment(samples, power=2):\n",
    "    norms = np.linalg.norm(samples, axis=1)\n",
    "    moment = np.mean(norms**power)\n",
    "    return moment"
   ]
  },
  {
   "cell_type": "code",
   "execution_count": 7,
   "metadata": {},
   "outputs": [
    {
     "name": "stderr",
     "output_type": "stream",
     "text": [
      "100%|█████████▉| 329700/330000 [03:38<00:00, 1511.40it/s]\n"
     ]
    }
   ],
   "source": [
    "ipla_delta_re = np.zeros(len(delta_vector))\n",
    "ipla_delta_cv = np.zeros(len(delta_vector))\n",
    "\n",
    "with tqdm(total=len(delta_vector)*n_MC*number_of_samples) as pbar:\n",
    "\n",
    "    for i_delta in range(0,len(delta_vector)):\n",
    "\n",
    "        delta = delta_vector[i_delta]\n",
    "        moment = np.zeros(n_MC)\n",
    "\n",
    "        for i_MC in range(0, n_MC):\n",
    "\n",
    "            samples_ipla = np.empty((number_of_samples, d))\n",
    "            samples_ipla[0,:] = initial_sample\n",
    "\n",
    "            for i_sample in range(1, number_of_samples):\n",
    "\n",
    "                samples_ipla_prev = samples_ipla[i_sample-1,:]\n",
    "\n",
    "                # We provide the simulation in the way that compute the proximal step \n",
    "                # with high precision and then artificially add error +/- delta\n",
    "\n",
    "                # inexact proximal step with high precision\n",
    "                x = minimize(\n",
    "                    lambda x: potential(x) + 1/(2*time_step) * np.linalg.norm(x - samples_ipla_prev)**2, \n",
    "                    jac=lambda x: gradient(x) + 1/time_step * (x - samples_ipla_prev),\n",
    "                    hessp=lambda x, p: hessian_p(x,p) + 1/time_step * p,\n",
    "                    x0=samples_ipla_prev, \n",
    "                    method=\"Newton-CG\", \n",
    "                    tol=1e-10\n",
    "                    ).x\n",
    "                \n",
    "                # add error +/- delta\n",
    "                x+= np.random.choice([-delta, delta], p = [0.5, 0.5])\n",
    "                \n",
    "                # adding Gaussian\n",
    "                x = x + sp.norm.rvs(loc=0, scale=np.sqrt(2*time_step), size=d)\n",
    "               \n",
    "                # save value\n",
    "                samples_ipla[i_sample,:] = x\n",
    "\n",
    "                pbar.update(1)\n",
    "\n",
    "            samples_ipla = samples_ipla[tune_interval:]\n",
    "\n",
    "            moment[i_MC] = comp_moment(samples_ipla, 2)\n",
    "\n",
    "        moment = np.array(moment)\n",
    "\n",
    "        ipla_delta_re[i_delta] = np.abs(np.mean(moment)-EX2)/EX2\n",
    "        ipla_delta_cv[i_delta] = np.std(moment)/np.mean(moment)"
   ]
  },
  {
   "cell_type": "code",
   "execution_count": 8,
   "metadata": {},
   "outputs": [
    {
     "data": {
      "image/png": "[encoded data removed]",
      "text/plain": [
       "<Figure size 300x200 with 1 Axes>"
      ]
     },
     "metadata": {},
     "output_type": "display_data"
    },
    {
     "data": {
      "image/png": "[encoded data removed]",
      "text/plain": [
       "<Figure size 300x200 with 1 Axes>"
      ]
     },
     "metadata": {},
     "output_type": "display_data"
    }
   ],
   "source": [
    "plt.rcParams.update({\n",
    "    \"font.family\": \"serif\",   # specify font family here\n",
    "    \"font.serif\": [\"Times\"],  # specify font here\n",
    "    \"text.usetex\": True,\n",
    "    } \n",
    "    )\n",
    "\n",
    "plt.figure(figsize=(3,2))\n",
    "plt.plot(delta_vector, ipla_delta_re, color=\"C0\", label=\"IPLA\")\n",
    "plt.legend()\n",
    "plt.xlabel(\"$\\\\delta$\")\n",
    "plt.ylabel(\"RE\")\n",
    "plt.tight_layout()\n",
    "\n",
    "plt.figure(figsize=(3,2))\n",
    "plt.plot(delta_vector, ipla_delta_cv, color=\"C0\", label=\"IPLA\")\n",
    "plt.legend()\n",
    "plt.xlabel(\"$\\\\delta$\")\n",
    "plt.ylabel(\"CV\")\n",
    "plt.tight_layout()"
   ]
  },
  {
   "cell_type": "code",
   "execution_count": null,
   "metadata": {},
   "outputs": [
    {
     "data": {
      "image/png": "[encoded data removed]",
      "text/plain": [
       "<Figure size 300x200 with 1 Axes>"
      ]
     },
     "metadata": {},
     "output_type": "display_data"
    }
   ],
   "source": [
    "plt.rcParams.update({\n",
    "    \"font.family\": \"serif\",   # specify font family here\n",
    "    \"font.serif\": [\"Times\"],  # specify font here\n",
    "    \"text.usetex\": True,\n",
    "    } \n",
    "    )\n",
    "\n",
    "plt.figure(figsize=(3,2))\n",
    "plt.plot(delta_vector/time_step, ipla_delta_re, color=\"C0\", label=\"IPLA\")\n",
    "plt.legend()\n",
    "plt.xlabel(\"$\\\\delta/\\\\tau$\")\n",
    "plt.ylabel(\"RE\")\n",
    "plt.tight_layout()\n",
    "\n",
    "plt.figure(figsize=(3,2))\n",
    "plt.plot(delta_vector/time_step, ipla_delta_cv, color=\"C0\", label=\"IPLA\")\n",
    "plt.legend()\n",
    "plt.xlabel(\"$\\\\delta/\\\\tau$\")\n",
    "plt.ylabel(\"CV\")\n",
    "plt.tight_layout()"
   ]
  }
 ],
 "metadata": {
  "kernelspec": {
   "display_name": ".venv",
   "language": "python",
   "name": "python3"
  },
  "language_info": {
   "codemirror_mode": {
    "name": "ipython",
    "version": 3
   },
   "file_extension": ".py",
   "mimetype": "text/x-python",
   "name": "python",
   "nbconvert_exporter": "python",
   "pygments_lexer": "ipython3",
   "version": "3.12.0"
  }
 },
 "nbformat": 4,
 "nbformat_minor": 2
}
