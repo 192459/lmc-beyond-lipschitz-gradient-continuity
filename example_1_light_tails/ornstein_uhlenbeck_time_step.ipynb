{
 "cells": [
  {
   "cell_type": "markdown",
   "metadata": {},
   "source": [
    "# Sampling from Light Tail Distribution: Time Step\n",
    "\n",
    "In this notebook we consider a simple and natural case where the potential has non-Lipschitz gradient.\n",
    "Our goal is to sample from the density \n",
    "\\begin{equation*}\n",
    "\\mu^*(x) \\propto \\exp{\\big(-\\tfrac{|x|^4}{4} \\big)} \\, ,\n",
    "\\end{equation*}\n",
    "which is a~stationary distribution of the process \n",
    "\\begin{equation*}\n",
    "\\mathrm{d} Y_t = -Y_t^3 \\, \\mathrm{d} t + \\sqrt{2} \\, \\mathrm{d} B_t \\,.\n",
    "\\end{equation*}\n",
    "\n",
    "We provide the test with respect to time step $\\tau$."
   ]
  },
  {
   "cell_type": "markdown",
   "metadata": {},
   "source": [
    "Load neccessary libraries."
   ]
  },
  {
   "cell_type": "code",
   "execution_count": 2,
   "metadata": {},
   "outputs": [],
   "source": [
    "import numpy as np\n",
    "from tqdm import tqdm\n",
    "import scipy.stats as sp\n",
    "from scipy.optimize import minimize\n",
    "import matplotlib.pyplot as plt\n",
    "from IPython.display import clear_output"
   ]
  },
  {
   "cell_type": "markdown",
   "metadata": {},
   "source": [
    "### Define the Parameters of the Run:"
   ]
  },
  {
   "cell_type": "code",
   "execution_count": 12,
   "metadata": {},
   "outputs": [],
   "source": [
    "# PARAMETERS OF THE RUN\n",
    "initial_sample = 0*np.ones(1000)\n",
    "d = len(initial_sample)\n",
    "time_step_vector = np.array([1e-5, 1e-4, 1e-3, 0.25, 0.5, 0.75, 1])\n",
    "sampling = 10**5\n",
    "n_MC = 3\n",
    "tune_interval = 10**4\n",
    "number_of_samples = sampling+tune_interval"
   ]
  },
  {
   "cell_type": "markdown",
   "metadata": {},
   "source": [
    "For the compuation of the reference values of moments $\\mathbb{E} |Y|^2$, $\\mathbb{E} |Y|^4$, and $\\mathbb{E} |Y|^6$, se the Juputer notebook $\\mathtt{reference.ipynb}$. In this notebook, we just assign the computed values."
   ]
  },
  {
   "cell_type": "code",
   "execution_count": 5,
   "metadata": {},
   "outputs": [],
   "source": [
    "#reference value \n",
    "EX2 = 31.61232243\n",
    "EX4 = 1000.318801\n",
    "EX6 = 31684.37599"
   ]
  },
  {
   "cell_type": "markdown",
   "metadata": {},
   "source": [
    "To simplify code latter, we introduce following functions which return relative error (RE) and coefficient of variance (CV). "
   ]
  },
  {
   "cell_type": "code",
   "execution_count": 6,
   "metadata": {},
   "outputs": [],
   "source": [
    "# define a potential and its gradient\n",
    "def potential(x:float) -> float:\n",
    "    return np.linalg.norm(x)**4/4\n",
    "\n",
    "def gradient(x:float) -> float:\n",
    "    return np.linalg.norm(x)**2 * x\n",
    "\n",
    "def hessian_p(x: float, p:float) -> float:\n",
    "    return 2 * x * (np.dot(x,p)) + np.linalg.norm(x)**2 * p  # + 1/time_step * p\n",
    "\n",
    "def comp_moment(samples, power=2):\n",
    "    norms = np.linalg.norm(samples, axis=1)\n",
    "    moment = np.mean(norms**power)\n",
    "    return moment"
   ]
  },
  {
   "cell_type": "markdown",
   "metadata": {},
   "source": [
    "### Unadjusted Langevin Algorithm (ULA)"
   ]
  },
  {
   "cell_type": "code",
   "execution_count": 10,
   "metadata": {},
   "outputs": [
    {
     "name": "stderr",
     "output_type": "stream",
     "text": [
      " 20%|█▉        | 328053/1650000 [00:11<00:42, 30966.79it/s]/var/folders/82/tsl217q50tv6x9csq7yp35c40000gn/T/ipykernel_26888/2151320655.py:6: RuntimeWarning: overflow encountered in multiply\n",
      "  return np.linalg.norm(x)**2 * x\n",
      "/var/folders/82/tsl217q50tv6x9csq7yp35c40000gn/T/ipykernel_26888/3705117481.py:20: RuntimeWarning: invalid value encountered in subtract\n",
      "  x = samples_ula_prev - time_step * gradient(samples_ula_prev)\n",
      "100%|█████████▉| 1649985/1650000 [00:57<00:00, 28529.42it/s]\n"
     ]
    }
   ],
   "source": [
    "ula_time_step_re = np.zeros(len(time_step_vector))\n",
    "ula_time_step_cv = np.zeros(len(time_step_vector))\n",
    "\n",
    "with tqdm(total=len(time_step_vector)*n_MC*number_of_samples) as pbar:\n",
    "\n",
    "    for i_ts in range(0,len(time_step_vector)):\n",
    "\n",
    "        time_step = time_step_vector[i_ts]\n",
    "        moment = np.zeros(n_MC)\n",
    "\n",
    "        for i_MC in range(0, n_MC):\n",
    "\n",
    "            samples_ula = np.empty((number_of_samples, d))\n",
    "            samples_ula[0,:] = initial_sample\n",
    "\n",
    "            for i_sample in range(1, number_of_samples):\n",
    "\n",
    "                samples_ula_prev = samples_ula[i_sample-1,:]\n",
    "                #gradient step\n",
    "                x = samples_ula_prev - time_step * gradient(samples_ula_prev)  \n",
    "                \n",
    "                # adding Gaussian\n",
    "                x = x + sp.norm.rvs(loc=0, scale=np.sqrt(2*time_step), size=d)\n",
    "                \n",
    "                # save value\n",
    "                samples_ula[i_sample,:] = x\n",
    "\n",
    "                pbar.update(1)\n",
    "\n",
    "            samples_ula = samples_ula[tune_interval:]\n",
    "\n",
    "            moment[i_MC] = comp_moment(samples_ula, 2)\n",
    "            \n",
    "        ula_time_step_re[i_ts] = np.abs(np.mean(moment)-EX2)/EX2\n",
    "        ula_time_step_cv[i_ts] = np.std(moment)/np.mean(moment)"
   ]
  },
  {
   "cell_type": "markdown",
   "metadata": {},
   "source": [
    "### Tamed Unadjusted Langevin Algorithm (TULA)"
   ]
  },
  {
   "cell_type": "code",
   "execution_count": 9,
   "metadata": {},
   "outputs": [
    {
     "name": "stderr",
     "output_type": "stream",
     "text": [
      "100%|█████████▉| 1649985/1650000 [01:03<00:00, 25830.79it/s]\n"
     ]
    }
   ],
   "source": [
    "tula_time_step_re = np.zeros(len(time_step_vector))\n",
    "tula_time_step_cv = np.zeros(len(time_step_vector))\n",
    "\n",
    "with tqdm(total=len(time_step_vector)*n_MC*number_of_samples) as pbar:\n",
    "\n",
    "    for i_ts in range(0,len(time_step_vector)):\n",
    "\n",
    "        time_step = time_step_vector[i_ts]\n",
    "        moment = np.zeros(n_MC)\n",
    "\n",
    "        for i_MC in range(0, n_MC):\n",
    "\n",
    "            samples_tula = np.empty((number_of_samples, d))\n",
    "            samples_tula[0,:] = initial_sample\n",
    "\n",
    "            for i_sample in range(1, number_of_samples):\n",
    "\n",
    "                samples_tula_prev = samples_tula[i_sample-1,:]\n",
    "                \n",
    "                # gradient tamed step\n",
    "                x = samples_tula_prev - time_step * gradient(samples_tula_prev) / (1+time_step*np.linalg.norm(gradient(samples_tula_prev))) \n",
    "                \n",
    "                # adding Gaussian\n",
    "                x = x + sp.norm.rvs(loc=0, scale=np.sqrt(2*time_step), size=d)\n",
    "            \n",
    "                # save value\n",
    "                samples_tula[i_sample,:] = x\n",
    "\n",
    "                pbar.update(1)\n",
    "\n",
    "            samples_tula = samples_tula[tune_interval:]\n",
    "\n",
    "            moment[i_MC] = comp_moment(samples_tula, 2)\n",
    "\n",
    "        moment = np.array(moment)\n",
    "\n",
    "        tula_time_step_re[i_ts] = np.abs(np.mean(moment)-EX2)/EX2\n",
    "        tula_time_step_cv[i_ts] = np.std(moment)/np.mean(moment)\n"
   ]
  },
  {
   "cell_type": "markdown",
   "metadata": {},
   "source": [
    "### Inexact Proximal Langevin Algorithm (IPLA)"
   ]
  },
  {
   "cell_type": "code",
   "execution_count": 7,
   "metadata": {},
   "outputs": [
    {
     "name": "stderr",
     "output_type": "stream",
     "text": [
      "100%|█████████▉| 1649985/1650000 [11:20<00:00, 2423.46it/s]\n"
     ]
    }
   ],
   "source": [
    "ipla_time_step_re = np.zeros(len(time_step_vector))\n",
    "ipla_time_step_cv = np.zeros(len(time_step_vector))\n",
    "\n",
    "with tqdm(total=len(time_step_vector)*n_MC*number_of_samples) as pbar:\n",
    "\n",
    "    for i_ts in range(0,len(time_step_vector)):\n",
    "\n",
    "        time_step = time_step_vector[i_ts]\n",
    "        moment = np.zeros(n_MC)\n",
    "\n",
    "        for i_MC in range(0, n_MC):\n",
    "\n",
    "            samples_ipla = np.empty((number_of_samples, d))\n",
    "            samples_ipla[0,:] = initial_sample\n",
    "\n",
    "            for i_sample in range(1, number_of_samples):\n",
    "\n",
    "                samples_ipla_prev = samples_ipla[i_sample-1,:]\n",
    "\n",
    "                # inexact proximal step \n",
    "                x = minimize(\n",
    "                    lambda x: potential(x) + 1/(2*time_step) * np.linalg.norm(x - samples_ipla_prev)**2, \n",
    "                    jac=lambda x: gradient(x) + 1/time_step * (x - samples_ipla_prev),\n",
    "                    hessp=lambda x, p: hessian_p(x,p) + 1/time_step * p,\n",
    "                    x0=samples_ipla_prev, \n",
    "                    method=\"Newton-CG\"\n",
    "                    ).x\n",
    "            \n",
    "                # adding Gaussian\n",
    "                x = x + sp.norm.rvs(loc=0, scale=np.sqrt(2*time_step), size=d)\n",
    "                \n",
    "                # save value\n",
    "                samples_ipla[i_sample,:] = x\n",
    "\n",
    "                pbar.update(1)\n",
    "\n",
    "            samples_ipla = samples_ipla[tune_interval:]\n",
    "\n",
    "            moment[i_MC] = comp_moment(samples_ipla, 2)\n",
    "\n",
    "        moment = np.array(moment)\n",
    "\n",
    "        ipla_time_step_re[i_ts] = np.abs(np.mean(moment)-EX2)/EX2\n",
    "        ipla_time_step_cv[i_ts] = np.std(moment)/np.mean(moment)\n"
   ]
  },
  {
   "cell_type": "code",
   "execution_count": 1,
   "metadata": {},
   "outputs": [
    {
     "ename": "NameError",
     "evalue": "name 'plt' is not defined",
     "output_type": "error",
     "traceback": [
      "\u001b[0;31m---------------------------------------------------------------------------\u001b[0m",
      "\u001b[0;31mNameError\u001b[0m                                 Traceback (most recent call last)",
      "Cell \u001b[0;32mIn[1], line 1\u001b[0m\n\u001b[0;32m----> 1\u001b[0m \u001b[43mplt\u001b[49m\u001b[38;5;241m.\u001b[39mrcParams\u001b[38;5;241m.\u001b[39mupdate({\n\u001b[1;32m      2\u001b[0m     \u001b[38;5;124m\"\u001b[39m\u001b[38;5;124mfont.family\u001b[39m\u001b[38;5;124m\"\u001b[39m: \u001b[38;5;124m\"\u001b[39m\u001b[38;5;124mserif\u001b[39m\u001b[38;5;124m\"\u001b[39m,   \u001b[38;5;66;03m# specify font family here\u001b[39;00m\n\u001b[1;32m      3\u001b[0m     \u001b[38;5;124m\"\u001b[39m\u001b[38;5;124mfont.serif\u001b[39m\u001b[38;5;124m\"\u001b[39m: [\u001b[38;5;124m\"\u001b[39m\u001b[38;5;124mTimes\u001b[39m\u001b[38;5;124m\"\u001b[39m],  \u001b[38;5;66;03m# specify font here\u001b[39;00m\n\u001b[1;32m      4\u001b[0m     \u001b[38;5;124m\"\u001b[39m\u001b[38;5;124mtext.usetex\u001b[39m\u001b[38;5;124m\"\u001b[39m: \u001b[38;5;28;01mTrue\u001b[39;00m,\n\u001b[1;32m      5\u001b[0m     } \n\u001b[1;32m      6\u001b[0m     )\n\u001b[1;32m      8\u001b[0m \u001b[38;5;66;03m# # find if (and when) ULA blow up\u001b[39;00m\n\u001b[1;32m      9\u001b[0m \n\u001b[1;32m     10\u001b[0m \u001b[38;5;66;03m# is_nan = False  \u001b[39;00m\n\u001b[0;32m   (...)\u001b[0m\n\u001b[1;32m     15\u001b[0m \n\u001b[1;32m     16\u001b[0m \u001b[38;5;66;03m# print(i_ts)\u001b[39;00m\n\u001b[1;32m     18\u001b[0m plt\u001b[38;5;241m.\u001b[39mfigure(figsize\u001b[38;5;241m=\u001b[39m(\u001b[38;5;241m3\u001b[39m,\u001b[38;5;241m2\u001b[39m))\n",
      "\u001b[0;31mNameError\u001b[0m: name 'plt' is not defined"
     ]
    }
   ],
   "source": [
    "plt.rcParams.update({\n",
    "    \"font.family\": \"serif\",   # specify font family here\n",
    "    \"font.serif\": [\"Times\"],  # specify font here\n",
    "    \"text.usetex\": True,\n",
    "    } \n",
    "    )\n",
    "\n",
    "# # find if (and when) ULA blow up\n",
    "\n",
    "# is_nan = False  \n",
    "# for i_ts in range(0, len(time_step_vector)):\n",
    "#     if np.isnan(ula_time_step_re[i_ts]):\n",
    "#         is_nan = True\n",
    "#         break\n",
    "\n",
    "# print(i_ts)\n",
    "\n",
    "plt.figure(figsize=(3,2))\n",
    "plt.plot(time_step_vector, ipla_time_step_re, color=\"C0\", label=\"IPLA\")\n",
    "plt.plot(time_step_vector, tula_time_step_re, color=\"C1\", label=\"TULA\")\n",
    "plt.plot(time_step_vector, ula_time_step_re, color=\"C2\", label=\"ULA\")\n",
    "plt.legend()\n",
    "plt.xlabel(\"$\\\\tau$\")\n",
    "plt.ylabel(\"RE\")\n",
    "plt.tight_layout()\n",
    "\n",
    "\n",
    "plt.figure(figsize=(3,2))\n",
    "plt.plot(time_step_vector, ipla_time_step_cv, color=\"C0\", label=\"IPLA\")\n",
    "plt.plot(time_step_vector, ula_time_step_cv, color=\"C1\", label=\"TULA\")\n",
    "plt.plot(time_step_vector, ula_time_step_cv, color=\"C2\", label=\"ULA\")\n",
    "plt.legend()\n",
    "plt.xlabel(\"$\\\\tau$\")\n",
    "plt.ylabel(\"CV\")\n",
    "plt.tight_layout()"
   ]
  }
 ],
 "metadata": {
  "kernelspec": {
   "display_name": ".venv",
   "language": "python",
   "name": "python3"
  },
  "language_info": {
   "codemirror_mode": {
    "name": "ipython",
    "version": 3
   },
   "file_extension": ".py",
   "mimetype": "text/x-python",
   "name": "python",
   "nbconvert_exporter": "python",
   "pygments_lexer": "ipython3",
   "version": "3.12.0"
  }
 },
 "nbformat": 4,
 "nbformat_minor": 2
}
